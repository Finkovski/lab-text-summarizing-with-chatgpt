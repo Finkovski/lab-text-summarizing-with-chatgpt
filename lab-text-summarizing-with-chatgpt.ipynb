{
 "cells": [
  {
   "cell_type": "markdown",
   "metadata": {},
   "source": [
    "# Text summarizing with ChaptGPT\n",
    "In this lesson, you will summarize text with a focus on specific topics.\n",
    "\n",
    "## Setup"
   ]
  },
  {
   "cell_type": "code",
   "execution_count": 6,
   "metadata": {
    "tags": []
   },
   "outputs": [],
   "source": [
    "from openai import OpenAI\n",
    "import os\n",
    "\n",
    "from dotenv import load_dotenv, find_dotenv\n",
    "_ = load_dotenv(find_dotenv()) # read local .env file\n",
    "\n",
    "OPENAI_API_KEY  = os.getenv('OPENAI_API_KEY')"
   ]
  },
  {
   "cell_type": "code",
   "execution_count": 7,
   "metadata": {
    "tags": []
   },
   "outputs": [],
   "source": [
    "client = OpenAI(\n",
    "    # This is the default and can be omitted\n",
    "    api_key=OPENAI_API_KEY,\n",
    ")\n",
    "\n",
    "\n",
    "def get_completion(prompt, model=\"gpt-3.5-turbo\"): # Andrew mentioned that the prompt/ completion paradigm is preferable for this class\n",
    "    messages = [{\"role\": \"user\", \"content\": prompt}]\n",
    "    response = client.chat.completions.create(\n",
    "        model=model,\n",
    "        messages=messages,\n",
    "        temperature=0, # this is the degree of randomness of the model's output\n",
    "    )\n",
    "    return response.choices[0].message.content\n"
   ]
  },
  {
   "cell_type": "markdown",
   "metadata": {},
   "source": [
    "## Text to summarize"
   ]
  },
  {
   "cell_type": "code",
   "execution_count": 8,
   "metadata": {
    "tags": []
   },
   "outputs": [],
   "source": [
    "prod_review = \"\"\"\n",
    "Got this panda plush toy for my daughter's birthday, \\\n",
    "who loves it and takes it everywhere. It's soft and \\ \n",
    "super cute, and its face has a friendly look. It's \\ \n",
    "a bit small for what I paid though. I think there \\ \n",
    "might be other options that are bigger for the \\ \n",
    "same price. It arrived a day earlier than expected, \\ \n",
    "so I got to play with it myself before I gave it \\ \n",
    "to her.\n",
    "\"\"\""
   ]
  },
  {
   "cell_type": "markdown",
   "metadata": {},
   "source": [
    "## Summarize with a word/sentence/character limit"
   ]
  },
  {
   "cell_type": "code",
   "execution_count": 9,
   "metadata": {
    "tags": []
   },
   "outputs": [
    {
     "name": "stdout",
     "output_type": "stream",
     "text": [
      "The reviewer purchased a panda plush toy for their daughter's birthday and found it to be soft, cute, and with a friendly face. However, they felt it was a bit small for the price paid and mentioned that there may be larger options available for the same price. The toy arrived a day earlier than expected, allowing the reviewer to play with it before giving it to their daughter.\n"
     ]
    }
   ],
   "source": [
    "prompt = f\"\"\"\n",
    "Summarize the following text in 2-3 sentences:\n",
    "\n",
    "Review: ```{prod_review}```\n",
    "\"\"\"\n",
    "\n",
    "response = get_completion(prompt)\n",
    "print(response)\n"
   ]
  },
  {
   "cell_type": "markdown",
   "metadata": {},
   "source": [
    "## Summarize with a focus on shipping and delivery"
   ]
  },
  {
   "cell_type": "code",
   "execution_count": 10,
   "metadata": {
    "tags": []
   },
   "outputs": [
    {
     "name": "stdout",
     "output_type": "stream",
     "text": [
      "The customer is satisfied with the panda plush toy they purchased for their daughter's birthday, as their daughter loves it and takes it everywhere. They find it soft and super cute with a friendly face. However, they are slightly disappointed that it is smaller than expected for the price paid. Despite this, they were pleasantly surprised that it arrived earlier than expected, allowing them to play with it before giving it to their daughter.\n"
     ]
    }
   ],
   "source": [
    "prompt = f\"\"\"\n",
    "Summarize the following text with a focus on the customer’s emotional experience (e.g., frustration, satisfaction, disappointment):\n",
    "\n",
    "\n",
    "Review: ```{prod_review}```\n",
    "\"\"\"\n",
    "\n",
    "response = get_completion(prompt)\n",
    "print(response)\n"
   ]
  },
  {
   "cell_type": "markdown",
   "metadata": {},
   "source": [
    "## Summarize with a focus on price and value"
   ]
  },
  {
   "cell_type": "code",
   "execution_count": 11,
   "metadata": {
    "tags": []
   },
   "outputs": [
    {
     "name": "stdout",
     "output_type": "stream",
     "text": [
      "The customer purchased a panda plush toy for their daughter's birthday and loves how soft and cute it is. However, they feel it is a bit small for the price paid and believe there may be larger options available for the same price. Despite this, they were pleased that the toy arrived earlier than expected.\n"
     ]
    }
   ],
   "source": [
    "prompt = f\"\"\"\n",
    "Summarize the following content while highlighting the customer's opinion on pricing and value:\n",
    "\n",
    "Review: ```{prod_review}```\n",
    "\"\"\"\n",
    "\n",
    "response = get_completion(prompt)\n",
    "print(response)\n"
   ]
  },
  {
   "cell_type": "markdown",
   "metadata": {},
   "source": [
    "#### Comment\n",
    "- Summaries include topics that are not related to the topic of focus."
   ]
  },
  {
   "cell_type": "markdown",
   "metadata": {},
   "source": [
    "## Try \"extract\" instead of \"summarize\""
   ]
  },
  {
   "cell_type": "code",
   "execution_count": 12,
   "metadata": {
    "tags": []
   },
   "outputs": [
    {
     "name": "stdout",
     "output_type": "stream",
     "text": [
      "- Panda plush toy purchased for daughter's birthday\n",
      "- Daughter loves the toy and takes it everywhere\n",
      "- Toy is soft and cute, with a friendly face\n",
      "- Toy is smaller than expected for the price paid\n",
      "- Believes there may be larger options available for the same price\n",
      "- Toy arrived a day earlier than expected\n"
     ]
    }
   ],
   "source": [
    "prompt = f\"\"\"\n",
    "Extract only the objective facts from the following text. Do not include personal opinions or emotional language:\n",
    "\n",
    "Review: ```{prod_review}```\n",
    "\"\"\"\n",
    "\n",
    "response = get_completion(prompt)\n",
    "print(response)"
   ]
  },
  {
   "cell_type": "markdown",
   "metadata": {},
   "source": [
    "## Summarize multiple product reviews"
   ]
  },
  {
   "cell_type": "code",
   "execution_count": 13,
   "metadata": {
    "tags": []
   },
   "outputs": [],
   "source": [
    "\n",
    "review_1 = prod_review \n",
    "\n",
    "# review for a standing lamp\n",
    "review_2 = \"\"\"\n",
    "Needed a nice lamp for my bedroom, and this one \\\n",
    "had additional storage and not too high of a price \\\n",
    "point. Got it fast - arrived in 2 days. The string \\\n",
    "to the lamp broke during the transit and the company \\\n",
    "happily sent over a new one. Came within a few days \\\n",
    "as well. It was easy to put together. Then I had a \\\n",
    "missing part, so I contacted their support and they \\\n",
    "very quickly got me the missing piece! Seems to me \\\n",
    "to be a great company that cares about their customers \\\n",
    "and products. \n",
    "\"\"\"\n",
    "\n",
    "# review for an electric toothbrush\n",
    "review_3 = \"\"\"\n",
    "My dental hygienist recommended an electric toothbrush, \\\n",
    "which is why I got this. The battery life seems to be \\\n",
    "pretty impressive so far. After initial charging and \\\n",
    "leaving the charger plugged in for the first week to \\\n",
    "condition the battery, I've unplugged the charger and \\\n",
    "been using it for twice daily brushing for the last \\\n",
    "3 weeks all on the same charge. But the toothbrush head \\\n",
    "is too small. I’ve seen baby toothbrushes bigger than \\\n",
    "this one. I wish the head was bigger with different \\\n",
    "length bristles to get between teeth better because \\\n",
    "this one doesn’t.  Overall if you can get this one \\\n",
    "around the $50 mark, it's a good deal. The manufactuer's \\\n",
    "replacements heads are pretty expensive, but you can \\\n",
    "get generic ones that're more reasonably priced. This \\\n",
    "toothbrush makes me feel like I've been to the dentist \\\n",
    "every day. My teeth feel sparkly clean! \n",
    "\"\"\"\n",
    "\n",
    "# review for a blender\n",
    "review_4 = \"\"\"\n",
    "So, they still had the 17 piece system on seasonal \\\n",
    "sale for around $49 in the month of November, about \\\n",
    "half off, but for some reason (call it price gouging) \\\n",
    "around the second week of December the prices all went \\\n",
    "up to about anywhere from between $70-$89 for the same \\\n",
    "system. And the 11 piece system went up around $10 or \\\n",
    "so in price also from the earlier sale price of $29. \\\n",
    "So it looks okay, but if you look at the base, the part \\\n",
    "where the blade locks into place doesn’t look as good \\\n",
    "as in previous editions from a few years ago, but I \\\n",
    "plan to be very gentle with it (example, I crush \\\n",
    "very hard items like beans, ice, rice, etc. in the \\ \n",
    "blender first then pulverize them in the serving size \\\n",
    "I want in the blender then switch to the whipping \\\n",
    "blade for a finer flour, and use the cross cutting blade \\\n",
    "first when making smoothies, then use the flat blade \\\n",
    "if I need them finer/less pulpy). Special tip when making \\\n",
    "smoothies, finely cut and freeze the fruits and \\\n",
    "vegetables (if using spinach-lightly stew soften the \\ \n",
    "spinach then freeze until ready for use-and if making \\\n",
    "sorbet, use a small to medium sized food processor) \\ \n",
    "that you plan to use that way you can avoid adding so \\\n",
    "much ice if at all-when making your smoothie. \\\n",
    "After about a year, the motor was making a funny noise. \\\n",
    "I called customer service but the warranty expired \\\n",
    "already, so I had to buy another one. FYI: The overall \\\n",
    "quality has gone done in these types of products, so \\\n",
    "they are kind of counting on brand recognition and \\\n",
    "consumer loyalty to maintain sales. Got it in about \\\n",
    "two days.\n",
    "\"\"\"\n",
    "\n",
    "reviews = [review_1, review_2, review_3, review_4]"
   ]
  },
  {
   "cell_type": "code",
   "execution_count": 14,
   "metadata": {
    "tags": []
   },
   "outputs": [
    {
     "name": "stdout",
     "output_type": "stream",
     "text": [
      "0 Positive feedback:\n",
      "- Soft and super cute plush toy\n",
      "- Daughter loves it and takes it everywhere\n",
      "- Friendly look on the face\n",
      "- Arrived a day earlier than expected\n",
      "\n",
      "Negative feedback:\n",
      "- Small size for the price paid\n",
      "- Suggests that there may be bigger options available for the same price\n",
      "\n",
      "Suggestions for improvement:\n",
      "- Offer larger size options for the same price\n",
      "- Ensure accurate product descriptions regarding size and pricing \n",
      "\n",
      "1 Positive feedback:\n",
      "- Fast delivery\n",
      "- Additional storage feature\n",
      "- Responsive customer service\n",
      "- Easy to assemble\n",
      "\n",
      "Negative feedback:\n",
      "- String to the lamp broke during transit\n",
      "- Missing part\n",
      "\n",
      "Suggestions for improvement:\n",
      "- Ensure better packaging to prevent damage during transit\n",
      "- Double-check for missing parts before shipping \n",
      "\n",
      "2 Positive feedback:\n",
      "- Impressive battery life\n",
      "- Feels like a dentist clean every day\n",
      "- Good deal if purchased around $50\n",
      "\n",
      "Negative feedback:\n",
      "- Small toothbrush head\n",
      "- Expensive manufacturer replacement heads\n",
      "\n",
      "Suggestions for improvement:\n",
      "- Offer toothbrush heads with different lengths of bristles for better cleaning between teeth\n",
      "- Lower the price of manufacturer replacement heads \n",
      "\n",
      "3 1. Positive feedback:\n",
      "- Customer was able to purchase the 17 piece system on sale for a good price in November.\n",
      "- Customer provided tips on how to use the product effectively, such as freezing fruits and vegetables for smoothies.\n",
      "- Customer received the product quickly, within two days of ordering.\n",
      "\n",
      "2. Negative feedback:\n",
      "- Customer felt that the prices of the product increased significantly in December, which they perceived as price gouging.\n",
      "- Customer noted a decrease in quality compared to previous editions, specifically mentioning issues with the base and motor making a funny noise after a year of use.\n",
      "- Customer had to purchase a new product after the warranty expired due to the motor issue.\n",
      "\n",
      "3. Suggestions for improvement:\n",
      "- Address concerns about price fluctuations to maintain customer trust and satisfaction.\n",
      "- Improve product quality to ensure longevity and durability.\n",
      "- Consider extending warranty periods or offering repair services for customers experiencing issues with the product. \n",
      "\n"
     ]
    }
   ],
   "source": [
    "for i in range(len(reviews)):\n",
    "    prompt = f\"\"\"\n",
    "You are a product analyst. Summarize the following customer reviews by identifying common themes, praise, and complaints. Organize the summary into three categories: \n",
    "1. Positive feedback \n",
    "2. Negative feedback \n",
    "3. Suggestions for improvement\n",
    "\n",
    "\n",
    "    Review: ```{reviews[i]}```\n",
    "    \"\"\"\n",
    "\n",
    "    response = get_completion(prompt)\n",
    "    print(i, response, \"\\n\")"
   ]
  },
  {
   "cell_type": "markdown",
   "metadata": {},
   "source": [
    "# Exercise\n",
    " - Complete the prompts similar to what we did in class. \n",
    "     - Try at least 3 versions\n",
    "     - Be creative\n",
    " - Write a one page report summarizing your findings.\n",
    "     - Were there variations that didn't work well? i.e., where GPT either hallucinated or wrong\n",
    " - What did you learn?"
   ]
  },
  {
   "cell_type": "markdown",
   "metadata": {},
   "source": [
    "In this lab, I explored how different prompt styles influence the summaries generated by ChatGPT. I tested a total of five prompts using the same base review text provided in the notebook. Each prompt focused on a different summarization goal — general summary, emotional focus, topic-specific focus (e.g., shipping or price), and fact-only extraction. I also crafted a prompt for summarizing multiple reviews using a structured format.\n",
    "\n",
    "The basic summary prompt delivered a well-rounded, neutral summary but often missed specific details like emotional tone or specific pain points. When I used a prompt focused on customer sentiment, the summary highlighted dissatisfaction and praise more clearly, revealing the customer’s emotional journey. This was especially helpful for understanding subjective experiences, but occasionally GPT inferred feelings that weren't explicitly stated.\n",
    "\n",
    "The shipping-focused prompt zeroed in on delivery delays and packaging issues, showing how effective a narrow prompt can be at filtering out irrelevant content. Similarly, the price-and-value prompt brought out comments on cost vs. quality, something the general prompt overlooked. The “extract-only” prompt was surprisingly accurate and useful for pulling just the objective facts — ideal for business use cases like building a product issue tracker or support database.\n",
    "\n",
    "For the multiple reviews prompt, I created a format that grouped feedback into three categories: positive, negative, and suggestions. This structured approach made it easy to identify common trends across reviews, and GPT handled the organization very well. It proved that the model can synthesize high-level insights from multiple inputs if prompted correctly.\n",
    "\n",
    "Key Learnings:\n",
    "Small changes in prompt wording drastically affect the output.\n",
    "\n",
    "Focused prompts reduce noise and highlight specific user concerns.\n",
    "\n",
    "GPT sometimes “hallucinates” emotional tone or makes assumptions when the prompt is vague.\n",
    "\n",
    "Structuring the prompt (e.g., asking for categories) leads to more useful, business-friendly summaries.\n",
    "\n",
    "Overall, I learned that effective summarization with ChatGPT is less about the model and more about how you ask. Prompt engineering is a powerful skill for controlling output and extracting the kind of insight you actually need.\n",
    "\n"
   ]
  }
 ],
 "metadata": {
  "kernelspec": {
   "display_name": "Python 3",
   "language": "python",
   "name": "python3"
  },
  "language_info": {
   "codemirror_mode": {
    "name": "ipython",
    "version": 3
   },
   "file_extension": ".py",
   "mimetype": "text/x-python",
   "name": "python",
   "nbconvert_exporter": "python",
   "pygments_lexer": "ipython3",
   "version": "3.9.6"
  }
 },
 "nbformat": 4,
 "nbformat_minor": 4
}
